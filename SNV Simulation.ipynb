{
 "cells": [
  {
   "cell_type": "markdown",
   "metadata": {},
   "source": [
    "Create \"wild-type\" reads (no SNVs)."
   ]
  },
  {
   "cell_type": "code",
   "execution_count": 17,
   "metadata": {
    "collapsed": false
   },
   "outputs": [
    {
     "name": "stdout",
     "output_type": "stream",
     "text": [
      "[wgsim] seed = 8\n",
      "[wgsim_core] calculating the total length of the reference sequence...\n",
      "[wgsim_core] 1 sequences, total length: 1000\n"
     ]
    },
    {
     "name": "stderr",
     "output_type": "stream",
     "text": [
      "+ wgsim -N 1000 -r 0 -S 8 -e 0 test_input/e_coli/NC_008253_1K.fna /tmp/tmp.Vp2SDxNEMq /dev/null\n",
      "+ bwa mem -M -t 8 -p test_input/e_coli/NC_008253_1K.fna /tmp/tmp.Vp2SDxNEMq\n",
      "+ samtools view -b -S -o /tmp/tmp.4ZljxTN0c2 /tmp/tmp.j8uu7qTeaU\n",
      "+ samtools sort /tmp/tmp.4ZljxTN0c2 -o test_input/sim_wt/sim_wt.sorted.bam\n",
      "+ samtools index test_input/sim_wt/sim_wt.sorted.bam\n",
      "+ rm /tmp/tmp.Vp2SDxNEMq\n",
      "+ rm /tmp/tmp.j8uu7qTeaU\n",
      "+ rm /tmp/tmp.4ZljxTN0c2\n"
     ]
    }
   ],
   "source": [
    "%%bash\n",
    "\n",
    "ref=\"test_input/e_coli/NC_008253_1K.fna\"\n",
    "log_dir=\"test_input/sim_wt/sim_logs\"\n",
    "output_file=\"test_input/sim_wt/sim_wt.sorted.bam\"\n",
    "\n",
    "fq_file=\"$(mktemp)\"\n",
    "sam_file=\"$(mktemp)\"\n",
    "bam_file=\"$(mktemp)\"\n",
    "\n",
    "mkdir -p \"$(dirname $output_file)\"\n",
    "mkdir -p \"$log_dir\"\n",
    "\n",
    "set -euxo pipefail\n",
    "\n",
    "# Generate 1,000 reads, with a 0% rate of mutations and 0% error rate.\n",
    "# Set seed to a constant for reproducability.\n",
    "# wgsim outputs paired-end reads; we send second ends to /dev/null to get single-end reads.\n",
    "wgsim -N 1000 -r 0 -S 8 -e 0 \"$ref\" \"$fq_file\" /dev/null 2>&1 >\"$log_dir\"/wgsim.log\n",
    "bwa mem -M -t 8 -p \"$ref\" \"$fq_file\" >>\"$sam_file\" 2>\"$log_dir\"/bwa.log\n",
    "samtools view -b -S -o \"$bam_file\" \"$sam_file\"\n",
    "samtools sort \"$bam_file\" -o \"$output_file\"\n",
    "samtools index \"$output_file\"\n",
    "\n",
    "# Clean up intermediate files\n",
    "rm \"$fq_file\"\n",
    "rm \"$sam_file\"\n",
    "rm \"$bam_file\""
   ]
  },
  {
   "cell_type": "markdown",
   "metadata": {},
   "source": [
    "Produce simulated mutated reads. We just need three types of mutated BAMs to construct all simulated allelic asymmetries:\n",
    "* Homozygous ref (already created above).\n",
    "* Heterozygous (50% ref, 50% alt)\n",
    "* Homozygous alt"
   ]
  },
  {
   "cell_type": "code",
   "execution_count": 21,
   "metadata": {
    "collapsed": false
   },
   "outputs": [
    {
     "name": "stdout",
     "output_type": "stream",
     "text": [
      "[Fri Apr 14 15:56:40 EDT 2017] picard.sam.SamToFastq INPUT=test_input/sim_het/logs/haplo_gi|110640213|ref|NC_008253.1|_200_200.tmpbam.d208127a-baba-47dc-9ce9-cfdfd398239c.bam FASTQ=test_input/sim_het/logs/haplo_gi|110640213|ref|NC_008253.1|_200_200.tmpbam.d208127a-baba-47dc-9ce9-cfdfd398239c.fastq INCLUDE_NON_PRIMARY_ALIGNMENTS=false VALIDATION_STRINGENCY=SILENT    OUTPUT_PER_RG=false RG_TAG=PU RE_REVERSE=true INTERLEAVE=false INCLUDE_NON_PF_READS=false CLIPPING_MIN_LENGTH=0 READ1_TRIM=0 READ2_TRIM=0 VERBOSITY=INFO QUIET=false COMPRESSION_LEVEL=5 MAX_RECORDS_IN_RAM=500000 CREATE_INDEX=false CREATE_MD5_FILE=false GA4GH_CLIENT_SECRETS=client_secrets.json\n",
      "[Fri Apr 14 15:56:40 EDT 2017] Executing as moorena@ccpm.broadinstitute.org on Linux 2.6.32-642.13.1.el6.x86_64 amd64; OpenJDK 64-Bit Server VM 1.8.0_92-b15; Picard version: 2.9.0-SNAPSHOT\n",
      "[Fri Apr 14 15:56:41 EDT 2017] picard.sam.SamToFastq done. Elapsed time: 0.00 minutes.\n",
      "Runtime.totalMemory()=1012924416\n",
      "[M::bwa_idx_load_from_disk] read 0 ALT contigs\n",
      "[M::process] read 74 sequences (5180 bp)...\n",
      "[M::mem_process_seqs] Processed 74 reads in 0.003 CPU sec, 0.003 real sec\n",
      "[main] Version: 0.7.12-r1039\n",
      "[main] CMD: bwa mem -t 1 -M test_input/e_coli/NC_008253_1K.fna test_input/sim_het/logs/haplo_gi|110640213|ref|NC_008253.1|_200_200.tmpbam.d208127a-baba-47dc-9ce9-cfdfd398239c.fastq\n",
      "[main] Real time: 0.007 sec; CPU: 0.008 sec\n",
      "[Fri Apr 14 15:56:43 EDT 2017] picard.sam.SamToFastq INPUT=test_input/sim_het/logs/haplo_gi|110640213|ref|NC_008253.1|_200_200.tmpbam.fb6ac31c-e4fc-49e1-81fc-ca52d039f7bb.bam FASTQ=test_input/sim_het/logs/haplo_gi|110640213|ref|NC_008253.1|_200_200.tmpbam.fb6ac31c-e4fc-49e1-81fc-ca52d039f7bb.fastq INCLUDE_NON_PRIMARY_ALIGNMENTS=false VALIDATION_STRINGENCY=SILENT    OUTPUT_PER_RG=false RG_TAG=PU RE_REVERSE=true INTERLEAVE=false INCLUDE_NON_PF_READS=false CLIPPING_MIN_LENGTH=0 READ1_TRIM=0 READ2_TRIM=0 VERBOSITY=INFO QUIET=false COMPRESSION_LEVEL=5 MAX_RECORDS_IN_RAM=500000 CREATE_INDEX=false CREATE_MD5_FILE=false GA4GH_CLIENT_SECRETS=client_secrets.json\n",
      "[Fri Apr 14 15:56:43 EDT 2017] Executing as moorena@ccpm.broadinstitute.org on Linux 2.6.32-642.13.1.el6.x86_64 amd64; OpenJDK 64-Bit Server VM 1.8.0_92-b15; Picard version: 2.9.0-SNAPSHOT\n",
      "[Fri Apr 14 15:56:43 EDT 2017] picard.sam.SamToFastq done. Elapsed time: 0.00 minutes.\n",
      "Runtime.totalMemory()=1012924416\n",
      "[M::bwa_idx_load_from_disk] read 0 ALT contigs\n",
      "[M::process] read 74 sequences (5180 bp)...\n",
      "[M::mem_process_seqs] Processed 74 reads in 0.003 CPU sec, 0.002 real sec\n",
      "[main] Version: 0.7.12-r1039\n",
      "[main] CMD: bwa mem -t 1 -M test_input/e_coli/NC_008253_1K.fna test_input/sim_het/logs/haplo_gi|110640213|ref|NC_008253.1|_200_200.tmpbam.fb6ac31c-e4fc-49e1-81fc-ca52d039f7bb.fastq\n",
      "[main] Real time: 0.006 sec; CPU: 0.008 sec\n"
     ]
    },
    {
     "name": "stderr",
     "output_type": "stream",
     "text": [
      "++ mktemp\n",
      "+ spikein_file=/tmp/tmp.fsSYJNdaVg\n",
      "+ echo 'gi|110640213|ref|NC_008253.1|   200     200     0.5     C'\n",
      "+ bamsurgeon addsnv.py --single --picardjar /seq/software/picard/current/bin/picard.jar --aligner mem -v /tmp/tmp.fsSYJNdaVg -f test_input/sim_wt/sim_wt.sorted.bam -r test_input/e_coli/NC_008253_1K.fna -o /tmp/tmp.cPgguTAcOG --tmpdir test_input/sim_het/logs\n",
      "+ samtools sort /tmp/tmp.cPgguTAcOG -o test_input/sim_het/sim_het.sorted.bam\n",
      "+ samtools index test_input/sim_het/sim_het.sorted.bam\n",
      "+ mv addsnv_logs_tmp.cPgguTAcOG test_input/sim_het/logs\n",
      "+ echo 'gi|110640213|ref|NC_008253.1|   200     200     1     C'\n",
      "+ bamsurgeon addsnv.py --single --picardjar /seq/software/picard/current/bin/picard.jar --aligner mem -v /tmp/tmp.fsSYJNdaVg -f test_input/sim_wt/sim_wt.sorted.bam -r test_input/e_coli/NC_008253_1K.fna -o /tmp/tmp.GsC4sRB1KX --tmpdir test_input/sim_het/logs\n",
      "+ samtools sort /tmp/tmp.GsC4sRB1KX -o test_input/sim_hom/sim_hom.sorted.bam\n",
      "+ samtools index test_input/sim_hom/sim_hom.sorted.bam\n",
      "+ mv addsnv_logs_tmp.GsC4sRB1KX test_input/sim_het/logs\n",
      "+ rm /tmp/tmp.cPgguTAcOG\n",
      "+ rm /tmp/tmp.GsC4sRB1KX\n",
      "+ rm /tmp/tmp.fsSYJNdaVg\n"
     ]
    }
   ],
   "source": [
    "%%bash\n",
    "\n",
    "ref=\"test_input/e_coli/NC_008253_1K.fna\"\n",
    "picard_jar=\"/seq/software/picard/current/bin/picard.jar\"\n",
    "sim_wt_bam=\"test_input/sim_wt/sim_wt.sorted.bam\"\n",
    "het_output=\"test_input/sim_het/sim_het.sorted.bam\"\n",
    "hom_output=\"test_input/sim_hom/sim_hom.sorted.bam\"\n",
    "het_logs=\"test_input/sim_het/logs\"\n",
    "hom_logs=\"test_input/sim_het/logs\"\n",
    "\n",
    "chrom=\"gi|110640213|ref|NC_008253.1|\"\n",
    "snv_base=\"C\"\n",
    "snv_pos=\"200\"\n",
    "het_vaf=\"0.5\"\n",
    "hom_vaf=\"1\"\n",
    "\n",
    "mkdir -p \"$(dirname $het_output)\"\n",
    "mkdir -p \"$(dirname $hom_output)\"\n",
    "mkdir -p \"$het_logs\"\n",
    "mkdir -p \"$hom_logs\"\n",
    "het_bam_file=\"$(mktemp)\"\n",
    "hom_bam_file=\"$(mktemp)\"\n",
    "\n",
    "set -euxo pipefail\n",
    "\n",
    "# Make heterozygous BAM\n",
    "spikein_file=\"$(mktemp)\"\n",
    "echo \"$chrom   $snv_pos     $snv_pos     $het_vaf     $snv_base\" >\"$spikein_file\"\n",
    "\n",
    "bamsurgeon addsnv.py \\\n",
    "    --single \\\n",
    "    --picardjar \"$picard_jar\" \\\n",
    "    --aligner mem \\\n",
    "    -v \"$spikein_file\" \\\n",
    "    -f \"$sim_wt_bam\" \\\n",
    "    -r \"$ref\" \\\n",
    "    -o \"$het_bam_file\" \\\n",
    "    --tmpdir \"$het_logs\" \\\n",
    "    2>&1 >\"$het_logs/bamsurgeon.log\"\n",
    "\n",
    "samtools sort \"$het_bam_file\" -o \"$het_output\"\n",
    "samtools index \"$het_output\"\n",
    "mv \"addsnv_logs_tmp.\"* \"$het_logs\"\n",
    "\n",
    "# Make homozygous BAM\n",
    "echo \"$chrom   $snv_pos     $snv_pos     $hom_vaf     $snv_base\" >\"$spikein_file\"\n",
    "\n",
    "bamsurgeon addsnv.py \\\n",
    "    --single \\\n",
    "    --picardjar \"$picard_jar\" \\\n",
    "    --aligner mem \\\n",
    "    -v \"$spikein_file\" \\\n",
    "    -f \"$sim_wt_bam\" \\\n",
    "    -r \"$ref\" \\\n",
    "    -o \"$hom_bam_file\" \\\n",
    "    --tmpdir \"$hom_logs\" \\\n",
    "    2>&1 >\"$hom_logs/bamsurgeon.log\"\n",
    "\n",
    "samtools sort \"$hom_bam_file\" -o \"$hom_output\"\n",
    "samtools index \"$hom_output\"\n",
    "mv \"addsnv_logs_tmp.\"* \"$hom_logs\"\n",
    "\n",
    "rm \"$het_bam_file\"\n",
    "rm \"$hom_bam_file\"\n",
    "rm \"$spikein_file\""
   ]
  }
 ],
 "metadata": {
  "kernelspec": {
   "display_name": "Python 2",
   "language": "python",
   "name": "python2"
  },
  "language_info": {
   "codemirror_mode": {
    "name": "ipython",
    "version": 2
   },
   "file_extension": ".py",
   "mimetype": "text/x-python",
   "name": "python",
   "nbconvert_exporter": "python",
   "pygments_lexer": "ipython2",
   "version": "2.7.13"
  }
 },
 "nbformat": 4,
 "nbformat_minor": 2
}
